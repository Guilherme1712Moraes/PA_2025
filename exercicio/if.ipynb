{
  "nbformat": 4,
  "nbformat_minor": 0,
  "metadata": {
    "colab": {
      "provenance": [],
      "authorship_tag": "ABX9TyO68VbCUSo3JD7FQGPLc5Vn",
      "include_colab_link": true
    },
    "kernelspec": {
      "name": "python3",
      "display_name": "Python 3"
    },
    "language_info": {
      "name": "python"
    }
  },
  "cells": [
    {
      "cell_type": "markdown",
      "metadata": {
        "id": "view-in-github",
        "colab_type": "text"
      },
      "source": [
        "<a href=\"https://colab.research.google.com/github/Guilherme171200/PA_2025/blob/main/if.ipynb\" target=\"_parent\"><img src=\"https://colab.research.google.com/assets/colab-badge.svg\" alt=\"Open In Colab\"/></a>"
      ]
    },
    {
      "cell_type": "markdown",
      "source": [
        "exercício 1"
      ],
      "metadata": {
        "id": "wFRq8wNwDMKU"
      }
    },
    {
      "cell_type": "code",
      "execution_count": null,
      "metadata": {
        "id": "OTSb3T19Cxdh",
        "colab": {
          "base_uri": "https://localhost:8080/"
        },
        "outputId": "63b7e277-b95c-463b-c46b-ea8375dcbafc"
      },
      "outputs": [
        {
          "output_type": "stream",
          "name": "stdout",
          "text": [
            "digite um número: 40\n",
            "Esse número é par\n"
          ]
        }
      ],
      "source": [
        "num = int(input(\"digite um número: \"))\n",
        "if num %2==0:\n",
        "    print(\"Esse número é par\")\n",
        "else :\n",
        "    print(\"Esse numero é impar\")"
      ]
    },
    {
      "cell_type": "markdown",
      "source": [
        "exercício 2"
      ],
      "metadata": {
        "id": "zsSDUAKMGJhq"
      }
    },
    {
      "cell_type": "code",
      "source": [
        "nota1 = float(input(\"digite sua primeira nota: \"))\n",
        "nota2 = float(input(\"digite a segunda nota: \"))\n",
        "nota3 = float(input(\"digite a terceira nota: \"))\n",
        "calculomedia = (nota1+nota2+nota3)/3\n",
        "if calculomedia >=6:\n",
        "  print(\"você foi aprovado!\")\n",
        "else:\n",
        "    print(\"você foi reprovado!\")"
      ],
      "metadata": {
        "id": "ApwHlgiDR6C4",
        "colab": {
          "base_uri": "https://localhost:8080/"
        },
        "outputId": "d521bcdf-c7db-4c7d-f3b0-a94ca2c3f112"
      },
      "execution_count": null,
      "outputs": [
        {
          "output_type": "stream",
          "name": "stdout",
          "text": [
            "digite sua primeira nota: 4\n",
            "digite a segunda nota: 6\n",
            "digite a terceira nota: 9\n",
            "você foi aprovado!\n"
          ]
        }
      ]
    },
    {
      "cell_type": "markdown",
      "source": [
        "exercício 3"
      ],
      "metadata": {
        "id": "Df9MtoobL7Rz"
      }
    },
    {
      "cell_type": "code",
      "source": [
        "idade = int(input(\"Digite sua idade: \"))\n",
        "if idade >= 18:\n",
        " print(\"Você é maior de idade!\")\n",
        "else:\n",
        " print(\"Você não é maior de idade!\")\n"
      ],
      "metadata": {
        "id": "0VqxdCYBMCnq",
        "colab": {
          "base_uri": "https://localhost:8080/"
        },
        "outputId": "b524d8af-4a10-42f8-bc40-ca1013d3ff36"
      },
      "execution_count": null,
      "outputs": [
        {
          "output_type": "stream",
          "name": "stdout",
          "text": [
            "Digite sua idade: 15\n",
            "Você não é maior de idade!\n"
          ]
        }
      ]
    },
    {
      "cell_type": "markdown",
      "source": [
        "exercício 4"
      ],
      "metadata": {
        "id": "UTvS_zZjSvoV"
      }
    },
    {
      "cell_type": "code",
      "source": [
        "cinco = int(input(\"digite algum número: \"))\n",
        "if cinco%5==0:\n",
        "  print(\"ele é multiplo de 5\")\n",
        "else:\n",
        "  print(\"esse não é multiplo de 5\")"
      ],
      "metadata": {
        "id": "XPL-sDe-SyeD",
        "colab": {
          "base_uri": "https://localhost:8080/"
        },
        "outputId": "9983cb26-bcb0-4abd-b75b-8db73393abd1"
      },
      "execution_count": null,
      "outputs": [
        {
          "output_type": "stream",
          "name": "stdout",
          "text": [
            "digite algum número: 8\n",
            "esse não é multiplo de 5\n"
          ]
        }
      ]
    },
    {
      "cell_type": "markdown",
      "source": [
        "exercício 5\n"
      ],
      "metadata": {
        "id": "lC30GlbLTgv-"
      }
    },
    {
      "cell_type": "code",
      "source": [
        "peso=float(input('digite seu peso: '))\n",
        "altura=float(input('digite sua altura: '))\n",
        "imc=peso/(altura**2)\n",
        "\n",
        "ap= imc < 18.5\n",
        "pn= imc >= 18.5 and imc <= 24.9\n",
        "sb= imc >= 25 and imc <= 29.9\n",
        "obs1= imc >= 30 and imc <= 34.9\n",
        "obs2= imc >= 35 and imc <= 39.9\n",
        "obs3= imc > 40\n",
        "print(\"Você está abaixo do peso: \", ap)\n",
        "print(\"Você está no peso normal: \", pn)\n",
        "print(\"Voê está com sobre peso: \",sb)\n",
        "print(\"Você está com obesidade tipo 1: \",obs1)\n",
        "print(\"Você está com obesidade tipo 2: \",obs2)\n",
        "print(\"Você está com obesidade tipo 3: \",obs3)"
      ],
      "metadata": {
        "id": "q6gilNanT7wH",
        "colab": {
          "base_uri": "https://localhost:8080/"
        },
        "outputId": "c5fe598b-486e-478b-90bb-1234fbb6f3be"
      },
      "execution_count": null,
      "outputs": [
        {
          "output_type": "stream",
          "name": "stdout",
          "text": [
            "digite seu peso: 68\n",
            "digite sua altura: 172\n",
            "Você está abaixo do peso:  True\n",
            "Você está no peso normal:  False\n",
            "Voê está com sobre peso:  False\n",
            "Você está com obesidade tipo 1:  False\n",
            "Você está com obesidade tipo 2:  False\n",
            "Você está com obesidade tipo 3:  False\n"
          ]
        }
      ]
    },
    {
      "cell_type": "markdown",
      "source": [],
      "metadata": {
        "id": "el5yHr6pHCp9"
      }
    },
    {
      "cell_type": "markdown",
      "source": [
        "ex.6"
      ],
      "metadata": {
        "id": "g0goLaJKUyaS"
      }
    },
    {
      "cell_type": "code",
      "source": [
        "num = float(input(\"digite um numero \"))\n",
        "if num < 0:\n",
        "  print(\"esse numero é negativo\")\n",
        "if num ==0:\n",
        " print(\"esse numero é 0\")\n",
        "if num > 0:\n",
        " print(\"esse numero é positivo\")"
      ],
      "metadata": {
        "id": "m7yyC7UJU0Fx",
        "colab": {
          "base_uri": "https://localhost:8080/"
        },
        "outputId": "63c889e6-fbac-417d-ecb3-69c5ad7cf388"
      },
      "execution_count": null,
      "outputs": [
        {
          "output_type": "stream",
          "name": "stdout",
          "text": [
            "digite um numero5\n",
            "esse numero é positivo\n"
          ]
        }
      ]
    },
    {
      "cell_type": "markdown",
      "source": [
        "ex.7"
      ],
      "metadata": {
        "id": "5xcLB5ZaVTyZ"
      }
    },
    {
      "cell_type": "code",
      "source": [
        "conta = input(\"Qual operação?\")\n",
        "\n",
        "\n",
        "if conta == \"divisão\":\n",
        "  dv1 = float(input(\"Qual é o dividido?\"))\n",
        "  dv2 = float(input(\"Qual é o divisor?\"))\n",
        "\n",
        "  final = dv1 / dv2\n",
        "\n",
        "  print(final)\n",
        "\n",
        "\n",
        "if conta == \"multiplicação\":\n",
        "  ml1 = float(input(\"Qual é o multiplicado?\"))\n",
        "  ml2 = float(input(\"Qual é o multiplicador?\"))\n",
        "\n",
        "  final2 = ml1 * ml2\n",
        "\n",
        "  print(final2)\n",
        "\n",
        "if conta == \"soma\":\n",
        "  sm1 = float(input(\"Qual é o primeiro numero?\"))\n",
        "  sm2 = float(input(\"Qual é o segundo numero?\"))\n",
        "\n",
        "  final3 = sm1 + sm2\n",
        "\n",
        "  print(final3)\n",
        "\n",
        "if conta == \"subtração\":\n",
        "  sb1 = float(input(\"Qual é o primeiro numero?\"))\n",
        "  sb2 = float(input(\"Qual é o segundo numero?\"))\n",
        "\n",
        "  final4 = sub1 - sub2\n",
        "\n",
        "  print(final4)"
      ],
      "metadata": {
        "id": "FKGr5cEWWm5a",
        "colab": {
          "base_uri": "https://localhost:8080/"
        },
        "outputId": "69d1ab51-ca37-4057-bfb2-50eaf46f3ca6"
      },
      "execution_count": null,
      "outputs": [
        {
          "output_type": "stream",
          "name": "stdout",
          "text": [
            "Qual operação?soma\n",
            "Qual é o primeiro numero?4\n",
            "Qual é o segundo numero?2\n",
            "6.0\n"
          ]
        }
      ]
    },
    {
      "cell_type": "markdown",
      "source": [
        "ex.8"
      ],
      "metadata": {
        "id": "mnsUHxkHXGgw"
      }
    },
    {
      "cell_type": "code",
      "source": [
        "num = range(1,11)\n",
        "for num in range(1,11):\n",
        "    print((num))"
      ],
      "metadata": {
        "colab": {
          "base_uri": "https://localhost:8080/"
        },
        "id": "ytjAlGDPA_eC",
        "outputId": "f7a0bfb9-caf7-408e-f518-c8848f2e482b"
      },
      "execution_count": null,
      "outputs": [
        {
          "output_type": "stream",
          "name": "stdout",
          "text": [
            "1\n",
            "2\n",
            "3\n",
            "4\n",
            "5\n",
            "6\n",
            "7\n",
            "8\n",
            "9\n",
            "10\n"
          ]
        }
      ]
    },
    {
      "cell_type": "markdown",
      "source": [
        "ex.8"
      ],
      "metadata": {
        "id": "ESaKa-Z9EJep"
      }
    },
    {
      "cell_type": "code",
      "source": [
        "for numero in range(10, 0, -1):\n",
        "    print(numero)"
      ],
      "metadata": {
        "colab": {
          "base_uri": "https://localhost:8080/"
        },
        "id": "VU7hxcd3EMgq",
        "outputId": "eaca08a4-1fa8-42e6-915c-4b7676c9c567"
      },
      "execution_count": null,
      "outputs": [
        {
          "output_type": "stream",
          "name": "stdout",
          "text": [
            "10\n",
            "9\n",
            "8\n",
            "7\n",
            "6\n",
            "5\n",
            "4\n",
            "3\n",
            "2\n",
            "1\n"
          ]
        }
      ]
    },
    {
      "cell_type": "markdown",
      "source": [
        "ex.10"
      ],
      "metadata": {
        "id": "w2-NF1roFBDh"
      }
    },
    {
      "cell_type": "code",
      "source": [
        "tab = int(input(\"Digite algum número para aparecer a tabuada até o dez : \"))\n",
        "print(tab*1)\n",
        "print(tab*2)\n",
        "print(tab*3)\n",
        "print(tab*4)\n",
        "print(tab*5)\n",
        "print(tab*6)\n",
        "print(tab*7)\n",
        "print(tab*8)\n",
        "print(tab*9)\n",
        "print(tab*10)"
      ],
      "metadata": {
        "colab": {
          "base_uri": "https://localhost:8080/"
        },
        "id": "kEtkSjRfFDSh",
        "outputId": "d7e3c28f-d85c-44af-be98-94dd9a41596d"
      },
      "execution_count": null,
      "outputs": [
        {
          "output_type": "stream",
          "name": "stdout",
          "text": [
            "Digite algum número para aparecer a tabuada até o dez : 8\n",
            "8\n",
            "16\n",
            "24\n",
            "32\n",
            "40\n",
            "48\n",
            "56\n",
            "64\n",
            "72\n",
            "80\n"
          ]
        }
      ]
    },
    {
      "cell_type": "markdown",
      "source": [
        "ex.11"
      ],
      "metadata": {
        "id": "NXBaSkUsGn2m"
      }
    },
    {
      "cell_type": "code",
      "source": [
        "total = 0\n",
        "for number in range(1, 101):\n",
        "    total+= number\n",
        "print(total)\n"
      ],
      "metadata": {
        "id": "1qbYDeXwGphz",
        "colab": {
          "base_uri": "https://localhost:8080/"
        },
        "outputId": "e006429f-5852-4db2-e673-c7b49fff8c9e"
      },
      "execution_count": null,
      "outputs": [
        {
          "output_type": "stream",
          "name": "stdout",
          "text": [
            "5050\n"
          ]
        }
      ]
    },
    {
      "cell_type": "markdown",
      "source": [
        "ex.12"
      ],
      "metadata": {
        "id": "6FQv5Wj4MDzw"
      }
    },
    {
      "cell_type": "code",
      "source": [],
      "metadata": {
        "id": "2E68NNYPPpYF"
      },
      "execution_count": null,
      "outputs": []
    },
    {
      "cell_type": "markdown",
      "source": [
        "ex.13"
      ],
      "metadata": {
        "id": "CYMt0oUaPqb1"
      }
    },
    {
      "cell_type": "code",
      "source": [
        "num = int(input(\" digite\"))\n",
        "if num in range(1,11):\n",
        "  print(\"está na lista!\")\n",
        "else:\n",
        "  print(\"não está\")"
      ],
      "metadata": {
        "colab": {
          "base_uri": "https://localhost:8080/"
        },
        "id": "wlOtHwerPuDt",
        "outputId": "41c7a877-9cdb-446a-918f-43fb395c186f"
      },
      "execution_count": null,
      "outputs": [
        {
          "output_type": "stream",
          "name": "stdout",
          "text": [
            " digite5\n",
            "está na lista!\n"
          ]
        }
      ]
    },
    {
      "cell_type": "markdown",
      "source": [
        "ex.14"
      ],
      "metadata": {
        "id": "6dKw75cVSMF1"
      }
    },
    {
      "cell_type": "code",
      "source": [
        "import random\n",
        "num=int(input(\"Digite seu numero da sorte\"))\n",
        "numero_aleatorio = random.randint(1, 10)\n",
        "if num == numero_aleatorio:\n",
        "  print(\"Voce está com sorte hoje ... parabens\")\n",
        "else:\n",
        "  print(\"Boa sorte na proxima vez\")"
      ],
      "metadata": {
        "colab": {
          "base_uri": "https://localhost:8080/"
        },
        "id": "_YSz3bRYSPvF",
        "outputId": "3b805255-fe57-4993-fbee-5cd3540a180a"
      },
      "execution_count": null,
      "outputs": [
        {
          "output_type": "stream",
          "name": "stdout",
          "text": [
            "Digite seu numero da sorte6\n",
            "Boa sorte na proxima vez\n"
          ]
        }
      ]
    }
  ]
}