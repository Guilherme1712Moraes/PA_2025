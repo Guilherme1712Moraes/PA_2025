{
  "nbformat": 4,
  "nbformat_minor": 0,
  "metadata": {
    "colab": {
      "provenance": [],
      "authorship_tag": "ABX9TyOGhsZrY/LsOuyFfLxKsTut",
      "include_colab_link": true
    },
    "kernelspec": {
      "name": "python3",
      "display_name": "Python 3"
    },
    "language_info": {
      "name": "python"
    }
  },
  "cells": [
    {
      "cell_type": "markdown",
      "metadata": {
        "id": "view-in-github",
        "colab_type": "text"
      },
      "source": [
        "<a href=\"https://colab.research.google.com/github/Guilherme1712Moraes/PA_2025/blob/main/01_08.ipynb\" target=\"_parent\"><img src=\"https://colab.research.google.com/assets/colab-badge.svg\" alt=\"Open In Colab\"/></a>"
      ]
    },
    {
      "cell_type": "markdown",
      "source": [
        "EX-1"
      ],
      "metadata": {
        "id": "28kVChKDNzsy"
      }
    },
    {
      "cell_type": "code",
      "source": [
        "x = \"Hello World\"\n",
        "print(len(x))"
      ],
      "metadata": {
        "id": "nsJNKFr3N3oy"
      },
      "execution_count": null,
      "outputs": []
    },
    {
      "cell_type": "markdown",
      "source": [
        "EX-2"
      ],
      "metadata": {
        "id": "3sOvwiu3OCWt"
      }
    },
    {
      "cell_type": "code",
      "source": [
        "txt = \"Hello World\"\n",
        "x = txt[0]\n",
        "print(x)"
      ],
      "metadata": {
        "id": "dFH_BwKtOGwH"
      },
      "execution_count": null,
      "outputs": []
    },
    {
      "cell_type": "markdown",
      "source": [
        "EX-3"
      ],
      "metadata": {
        "id": "-_CB4QbjOH3Z"
      }
    },
    {
      "cell_type": "code",
      "source": [
        "\n",
        "txt = \"Hello World\"\n",
        "x = txt[2:5]\n",
        "print(x)"
      ],
      "metadata": {
        "id": "zqC9P6hsOKNy"
      },
      "execution_count": null,
      "outputs": []
    },
    {
      "cell_type": "markdown",
      "source": [
        "EX-4"
      ],
      "metadata": {
        "id": "_J2k2j2hOO58"
      }
    },
    {
      "cell_type": "code",
      "source": [
        "\n",
        "txt = \"Hello World\"\n",
        "txt = txt.upper()\n",
        "print(txt)"
      ],
      "metadata": {
        "id": "hH-W3UPKOQTj"
      },
      "execution_count": null,
      "outputs": []
    },
    {
      "cell_type": "markdown",
      "source": [
        "EX-5"
      ],
      "metadata": {
        "id": "DfJMSHelOVui"
      }
    },
    {
      "cell_type": "code",
      "source": [
        "\n",
        "txt = \"Eu gosto de viajar, tomar refri, de  estudar programação, de estudar Pyhon\"\n",
        "txt = txt.count(\"de\")\n",
        "print(txt)"
      ],
      "metadata": {
        "id": "iaPzWeA3OYKJ"
      },
      "execution_count": null,
      "outputs": []
    },
    {
      "cell_type": "markdown",
      "source": [
        "EX-6"
      ],
      "metadata": {
        "id": "ra4DJtJEOe1f"
      }
    },
    {
      "cell_type": "code",
      "source": [
        "\n",
        "txt = \"Eu gosto de viajar, tomar refri, de estudar programação, de estudar Pyhon\"\n",
        "txt = txt.split(',')\n",
        "print(txt)"
      ],
      "metadata": {
        "id": "X1-60139OgUo"
      },
      "execution_count": null,
      "outputs": []
    },
    {
      "cell_type": "markdown",
      "source": [
        "EX-7"
      ],
      "metadata": {
        "id": "c4UdV0EsOnZV"
      }
    },
    {
      "cell_type": "code",
      "source": [
        "\n",
        "txt = str(input(\"Digite uma frase: \"))\n",
        "rp = txt.replace(' ', '#')\n",
        "print(rp)"
      ],
      "metadata": {
        "id": "4ip7WHQlOriF"
      },
      "execution_count": null,
      "outputs": []
    },
    {
      "cell_type": "markdown",
      "source": [
        "EX-8"
      ],
      "metadata": {
        "id": "gzr29THaO1Bo"
      }
    },
    {
      "cell_type": "code",
      "source": [
        "\n",
        "str1 = input(\"Digite a primeira primeira palavra: \")\n",
        "str2 = input(\"Digite a segunda palavra: \")\n",
        "\n",
        "\n",
        "resultado = str1 == str2[::-1]\n",
        "\n",
        "print(resultado)"
      ],
      "metadata": {
        "id": "RWxqSPQIO2kG"
      },
      "execution_count": null,
      "outputs": []
    },
    {
      "cell_type": "markdown",
      "source": [
        "EX-9"
      ],
      "metadata": {
        "id": "ib4FG1g-O6pE"
      }
    },
    {
      "cell_type": "code",
      "source": [
        "\n",
        "txt = str(input('Digite seu nome: '))\n",
        "contra = txt[::-1]\n",
        "maius = contra.upper()\n",
        "print(maius)"
      ],
      "metadata": {
        "id": "XW1mJx0tO83T"
      },
      "execution_count": null,
      "outputs": []
    }
  ]
}