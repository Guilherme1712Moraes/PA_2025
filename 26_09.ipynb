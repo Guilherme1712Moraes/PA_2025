{
  "nbformat": 4,
  "nbformat_minor": 0,
  "metadata": {
    "colab": {
      "provenance": [],
      "authorship_tag": "ABX9TyPwJRueAWYNJiE1LbQU18qn",
      "include_colab_link": true
    },
    "kernelspec": {
      "name": "python3",
      "display_name": "Python 3"
    },
    "language_info": {
      "name": "python"
    }
  },
  "cells": [
    {
      "cell_type": "markdown",
      "metadata": {
        "id": "view-in-github",
        "colab_type": "text"
      },
      "source": [
        "<a href=\"https://colab.research.google.com/github/Guilherme1712Moraes/PA_2025/blob/main/26_09.ipynb\" target=\"_parent\"><img src=\"https://colab.research.google.com/assets/colab-badge.svg\" alt=\"Open In Colab\"/></a>"
      ]
    },
    {
      "cell_type": "code",
      "execution_count": 1,
      "metadata": {
        "colab": {
          "base_uri": "https://localhost:8080/"
        },
        "id": "e8e20I4AHWYp",
        "outputId": "5d65aa96-cb62-4b22-8702-c101bce1e169"
      },
      "outputs": [
        {
          "output_type": "stream",
          "name": "stdout",
          "text": [
            "Bem-vindo ao Termo! Tente adivinhar a palavra de 5 letras.\n",
            "Tentativa 1/6: paulo\n",
            "Dica:  p  a  u  l [O]\n",
            "Tentativa 2/6: pedro\n",
            "Dica:  p (e) d (r)[O]\n",
            "Tentativa 3/6: treno\n",
            "Parabéns! Você acertou a palavra: treno\n"
          ]
        }
      ],
      "source": [
        "import random\n",
        "\n",
        "palavras = [\"carro\", \"piano\", \"festa\", \"livro\", \"nuvem\", \"feliz\", \"vento\", \"treno\", \"sabor\", \"dente\"]\n",
        "\n",
        "palavra_secreta = random.choice(palavras)\n",
        "\n",
        "tentativas = 6\n",
        "tamanho_palavra = 5\n",
        "\n",
        "print(\"Bem-vindo ao Termo! Tente adivinhar a palavra de 5 letras.\")\n",
        "\n",
        "for tentativa in range(tentativas):\n",
        "    palpite = input(f\"Tentativa {tentativa+1}/{tentativas}: \").lower()\n",
        "\n",
        "    if len(palpite) != tamanho_palavra:\n",
        "        print(f\"A palavra deve ter exatamente {tamanho_palavra} letras.\")\n",
        "        continue\n",
        "\n",
        "        print(f\"Parabéns! Você acertou a palavra: {palavra_secreta}\")\n",
        "        break\n",
        "\n",
        "    dica = \"\"\n",
        "    for i in range(tamanho_palavra):\n",
        "        if palpite[i] == palavra_secreta[i]:\n",
        "            dica += f\"[{palpite[i].upper()}]\"\n",
        "        elif palpite[i] in palavra_secreta:\n",
        "            dica += f\"({palpite[i]})\"\n",
        "        else:\n",
        "            dica += f\" {palpite[i]} \"\n",
        "\n",
        "    print(\"Dica:\", dica)\n",
        "\n",
        "else:\n",
        "    print(f\"Você perdeu! A palavra era: {palavra_secreta}\")\n"
      ]
    }
  ]
}