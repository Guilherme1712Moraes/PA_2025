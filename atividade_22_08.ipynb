{
  "nbformat": 4,
  "nbformat_minor": 0,
  "metadata": {
    "colab": {
      "provenance": [],
      "authorship_tag": "ABX9TyNlPNkIc43evsAIex6eQJAs",
      "include_colab_link": true
    },
    "kernelspec": {
      "name": "python3",
      "display_name": "Python 3"
    },
    "language_info": {
      "name": "python"
    }
  },
  "cells": [
    {
      "cell_type": "markdown",
      "metadata": {
        "id": "view-in-github",
        "colab_type": "text"
      },
      "source": [
        "<a href=\"https://colab.research.google.com/github/Guilherme1712Moraes/PA_2025/blob/main/atividade_22_08.ipynb\" target=\"_parent\"><img src=\"https://colab.research.google.com/assets/colab-badge.svg\" alt=\"Open In Colab\"/></a>"
      ]
    },
    {
      "cell_type": "code",
      "execution_count": null,
      "metadata": {
        "id": "uswu0KsuJuCu"
      },
      "outputs": [],
      "source": [
        "1. MOSTRAR TODOS OS NÚMEROS ÍMPARES DE 1 A 30\n",
        "Escreva um algoritmo que leia 20 valores inteiros e ao final exiba:\n",
        "a. a soma dos números positivos;\n",
        "\n",
        "b. a quantidade de valores negativos.\n",
        "\n",
        "2. CONTADOR DE UM NÚMERO INCIAL E UM NÚMERO FINAL DIGITADOS PELO USUÁRIO\n",
        "\n",
        "3. SOME TODOS OS NÚMEROS DE 1 A 10\n",
        "\n",
        "4. USANDO O WHILE PERGUNTE AO USUÁRIO QUAL A MELHOR ESCOLHA DE RIBEIRÃO PIRES, ENQUANTO A PESSOA NÃO DIGITAR \"ETEC MCM\", ENQUANTO NÃO DIGITA CERTO ELE VAI INFORMANDO QUE O USUÁRIO ERROU\n",
        "\n",
        "5. Receba um número, verifique se é diferente de zero, caso seja diferente,continue retornando falso até que ele digite esse valor.\n",
        "\n",
        "6. SOMAR NÚMEROS ATÉ QUE O USUÁRIO DIGITE 0\n",
        "\n",
        "7. CRIE UM MENU DE OPÇÕES, COM 3 OPÇÕES,E ELE VAI SOLICITANDO NOVAMENTE A OPÇÕES ATÉ QUE O USUÁRIO ESCOLHA A OPÇÃO SAIR\n",
        "\n",
        "8. Faça um programa que mostre os n termos da Série a seguir e realize o cálculo\n",
        "Solicite ao usuário a quantidade de repetições\n",
        "\n",
        "s = (1/1)+(2/3)+(3/5)+(4/7)+...+...n/m\n",
        "\n",
        "LISTA DO MÁRCIO\n",
        "\n",
        "1. Soma dos números de uma lista\n",
        "Dada a lista numeros = [3, 7, 2, 8, 10], use um for para calcular a soma de todos os elementos.\n",
        "\n",
        "2. Contagem de vogais em uma string\n",
        "Peça uma palavra ao usuário e use um for para contar quantas vogais (a, e, i, o, u) existem.\n",
        "\n",
        "3. Inverter lista usando while\n",
        "Dada a lista nomes = [\"Ana\", \"João\", \"Carlos\", \"Maria\"], use um while para inverter a ordem dos elementos (sem usar reverse() ou slicing).\n",
        "\n",
        "4. Maior número em uma lista\n",
        "Escreva um programa que percorra uma lista de inteiros e encontre o maior valor.\n",
        "\n",
        "5. Remover elementos repetidos de uma lista\n",
        "Usando um for, percorra a lista valores = [1, 2, 2, 3, 4, 4, 5] e crie uma nova lista apenas com elementos únicos.\n",
        "\n",
        "6. Verificar se palavra é palíndromo\n",
        "Peça uma palavra ao usuário e use while ou for para verificar se ela é igual de frente para trás (ex.: \"arara\").\n",
        "\n",
        "7. Contagem regressiva com while\n",
        "\n",
        "Peça ao usuário um número e faça uma contagem regressiva até 0.\n",
        "\n",
        "8. Percorrendo um dicionário de notas\n",
        "Dado o dicionário notas = {\"Ana\": 8, \"Carlos\": 7, \"Maria\": 10}, use um for para exibir cada aluno com sua nota.\n",
        "\n",
        "9.Filtrar números pares de uma lista\n",
        "\n",
        "Dada a lista numeros = [10, 21, 32, 43, 54], use um for para criar uma nova lista contendo apenas os pares.\n",
        "\n",
        "10. Contador de palavras em uma frase\n",
        "Peça ao usuário uma frase, divida em palavras (split()) e use um dicionário para contar quantas vezes cada palavra aparece.\n",
        "Com manipulação de listas, tuplas e dicionários:\n",
        "\n",
        "OUTRA LISTA\n",
        "\n",
        "1. Tuplas - Acesso e Desempacotamento\n",
        "Crie uma tupla contendo três tipos diferentes de dados: um número, uma string e uma lista. Use um laço de repetição para acessar e imprimir cada item da tupla. Além disso, dentro do laço, acesse e imprima o segundo item da lista que está dentro da tupla.\n",
        "\n",
        "2. Cadastro de Pessoas e Análise de Alturas\n",
        "Solicite ao usuário para inserir o nome e a altura de várias pessoas. Preencha um dicionário com essas informações e depois encontre e imprima o nome e a altura da pessoa mais alta e da mais baixa.\n",
        "\n",
        "3. Lista, laços e Condicionais\n",
        "Descrição: Crie uma listacom cinco números inteiros. Use um laço de repetição e uma condicional para imprimir apenas os números que são múltiplos de 3.\n",
        "\n",
        "4. Manipulação de Strings e Condicionais\n",
        "Descrição: Crie uma string com uma frase. Use uma condicional para verificar se a frase contém a palavra \"Python\". Se sim, substitua a palavra \"Python\" por \"programação\" e imprima a nova frase.\n",
        "\n",
        "5. Simulação de Alfândega com Cadastro Dinâmico de Itens usando dicionário\n",
        "Simule uma situação de alfândega onde o funcionário cadastra itens novos encontrados na mala de uma pessoa que veio de uma viagem internacional. Após o cadastro de todos os itens, o programa imprime uma nota com todos os itens e seus preços, calcula o valor total e, se o valor total ultrapassar 500 dólares, calcula o valor de 60% a ser pago.\n",
        "\n",
        "6. Identificação de Palavras Negativas em um Texto\n",
        "Você vai criar um programa em Python para analisar um texto e identificar palavras que expressam pensamentos negativos. Para isso, você usará uma lista de palavras negativas fornecida e verificará quais dessas palavras estão presentes no texto fornecido pelo usuário. Exemplo de palavras negtivas, acrescente mais na lista: # Lista de palavras negativas palavras_negativas = ['triste', 'deprimido', 'ansioso', 'desapontado', 'frustrado']"
      ]
    },
    {
      "cell_type": "markdown",
      "source": [],
      "metadata": {
        "id": "wqZ4EmUHKr6e"
      }
    },
    {
      "cell_type": "markdown",
      "source": [
        "1. MOSTRAR TODOS OS NÚMEROS ÍMPARES DE 1 A 30\n",
        "Escreva um algoritmo que leia 20 valores inteiros e ao final exiba:"
      ],
      "metadata": {
        "id": "oJ_l7ycpLB9C"
      }
    },
    {
      "cell_type": "code",
      "source": [
        "for i in range(1, 31):\n",
        "    if i % 2 != 0:\n",
        "        print(i)\n"
      ],
      "metadata": {
        "id": "bwTTyyM2KH6y"
      },
      "execution_count": null,
      "outputs": []
    },
    {
      "cell_type": "markdown",
      "source": [
        "a. a soma dos números positivos;\n",
        "\n",
        "b. a quantidade de valores negativos."
      ],
      "metadata": {
        "id": "jo5ZcDaXLLxg"
      }
    },
    {
      "cell_type": "code",
      "source": [
        "soma_positivos = 0\n",
        "quant_negativos = 0\n",
        "\n",
        "for i in range(20):\n",
        "    num = int(input(f\"Digite o {i+1}º número: \"))\n",
        "    if num > 0:\n",
        "        soma_positivos += num\n",
        "    elif num < 0:\n",
        "        quant_negativos += 1\n",
        "\n",
        "print(\"Soma dos números positivos:\", soma_positivos)\n",
        "print(\"Quantidade de números negativos:\", quant_negativos)\n"
      ],
      "metadata": {
        "id": "yHkA_2AZLMt-"
      },
      "execution_count": null,
      "outputs": []
    },
    {
      "cell_type": "markdown",
      "source": [
        "2. CONTADOR DE UM NÚMERO INCIAL E UM NÚMERO FINAL DIGITADOS PELO USUÁRIO"
      ],
      "metadata": {
        "id": "Gf8AYNvyLazd"
      }
    },
    {
      "cell_type": "code",
      "source": [
        "inicio = int(input(\"Digite o número inicial: \"))\n",
        "fim = int(input(\"Digite o número final: \"))\n",
        "\n",
        "print(\"\\nContagem:\")\n",
        "\n",
        "if inicio <= fim:\n",
        "    for i in range(inicio, fim + 1):\n",
        "        print(i)\n",
        "else:\n",
        "    for i in range(inicio, fim - 1, -1):\n",
        "        print(i)\n"
      ],
      "metadata": {
        "id": "rAie18VuLbPt"
      },
      "execution_count": null,
      "outputs": []
    },
    {
      "cell_type": "markdown",
      "source": [
        "3. SOME TODOS OS NÚMEROS DE 1 A 10"
      ],
      "metadata": {
        "id": "A0Xx1y3tLwd2"
      }
    },
    {
      "cell_type": "code",
      "source": [
        "soma = 0\n",
        "\n",
        "for i in range(1, 11):\n",
        "    soma += i\n",
        "\n",
        "print(\" A soma de 1 a 10 é : \", soma)\n"
      ],
      "metadata": {
        "id": "Vvn6y_SrL1j-"
      },
      "execution_count": null,
      "outputs": []
    },
    {
      "cell_type": "markdown",
      "source": [
        "4. USANDO O WHILE PERGUNTE AO USUÁRIO QUAL A MELHOR ESCOLHA DE RIBEIRÃO PIRES, ENQUANTO A PESSOA NÃO DIGITAR \"ETEC MCM\", ENQUANTO NÃO DIGITA CERTO ELE VAI INFORMANDO QUE O USUÁRIO ERROU\n"
      ],
      "metadata": {
        "id": "kTLCDAPmNK4o"
      }
    },
    {
      "cell_type": "code",
      "source": [
        "resposta = \"\"\n",
        "\n",
        "while resposta != \"ETEC MCM\":\n",
        "    resposta = input(\"Qual a melhor escolha de Ribeirão Pires? \").strip()\n",
        "\n",
        "    if resposta != \"ETEC MCM\":\n",
        "        print(\" Você errou! Tente novamente.\")\n",
        "\n",
        "print(\" Parabéns! A melhor escolha é realmente ETEC MCM.\")\n"
      ],
      "metadata": {
        "id": "TvFrurdvNXTh"
      },
      "execution_count": null,
      "outputs": []
    },
    {
      "cell_type": "markdown",
      "source": [
        "\n",
        "5. Receba um número, verifique se é diferente de zero, caso seja diferente,continue retornando falso até que ele digite esse valor.\n"
      ],
      "metadata": {
        "id": "kQ50oiCDNaCQ"
      }
    },
    {
      "cell_type": "code",
      "source": [
        "numero = int(input(\"Digite um número diferente de zero: \"))\n",
        "\n",
        "while numero == 0:\n",
        "    numero = int(input(\"Número inválido! Digite um número diferente de zero: \"))\n",
        "\n",
        "while True:\n",
        "    tentativa = int(input(\"Digite novamente o número que você digitou: \"))\n",
        "    if tentativa == numero:\n",
        "        print(\"Você acertou!\")\n",
        "        break\n",
        "    else:\n",
        "        print(\"Falso! Tente novamente.\")\n"
      ],
      "metadata": {
        "id": "-FPfydfrNgrQ"
      },
      "execution_count": null,
      "outputs": []
    },
    {
      "cell_type": "markdown",
      "source": [
        "6. SOMAR NÚMEROS ATÉ QUE O USUÁRIO DIGITE 0"
      ],
      "metadata": {
        "id": "KL-dyKm6NlTQ"
      }
    },
    {
      "cell_type": "code",
      "source": [
        "soma = 0\n",
        "\n",
        "while True:\n",
        "    num = int(input(\"Digite um número (0 para sair): \"))\n",
        "    if num == 0:\n",
        "        break\n",
        "    soma += num\n",
        "\n",
        "print(f\"Soma total dos números digitados: {soma}\")\n"
      ],
      "metadata": {
        "id": "2gsC0I0bNm4o"
      },
      "execution_count": null,
      "outputs": []
    },
    {
      "cell_type": "markdown",
      "source": [
        "7. CRIE UM MENU DE OPÇÕES, COM 3 OPÇÕES,E ELE VAI SOLICITANDO NOVAMENTE A OPÇÕES ATÉ QUE O USUÁRIO ESCOLHA A OPÇÃO SAIR"
      ],
      "metadata": {
        "id": "u-kl_ZrJNnSo"
      }
    },
    {
      "cell_type": "code",
      "source": [
        "while True:\n",
        "    print(\"\\n--- MENU DE OPÇÕES ---\")\n",
        "    print(\"1 - Dizer Olá\")\n",
        "    print(\"2 - Mostrar uma curiosidade\")\n",
        "    print(\"3 - Sair\")\n",
        "\n",
        "    opcao = input(\"Escolha uma opção (1, 2 ou 3): \")\n",
        "\n",
        "    if opcao == \"1\":\n",
        "        print(\" Olá! Bem-vindo ao programa!\")\n",
        "    elif opcao == \"2\":\n",
        "        print(\" Curiosidade: O elefante é o único mamífero que não consegue pular.\")\n",
        "    elif opcao == \"3\":\n",
        "        print(\"Saindo do programa. Até logo!\")\n",
        "        break\n",
        "    else:\n",
        "        print(\" Opção inválida! Tente novamente.\")\n"
      ],
      "metadata": {
        "id": "Z9rWmvygNsMA"
      },
      "execution_count": null,
      "outputs": []
    },
    {
      "cell_type": "markdown",
      "source": [
        "8. Faça um programa que mostre os n termos da Série a seguir e realize o cálculo\n",
        "Solicite ao usuário a quantidade de repetições\n",
        "\n",
        "s = (1/1)+(2/3)+(3/5)+(4/7)+...+...n/m\n"
      ],
      "metadata": {
        "id": "D8mI29mTNsrI"
      }
    },
    {
      "cell_type": "code",
      "source": [
        "n = int(input(\"Digite a quantidade de termos da série: \"))\n",
        "\n",
        "soma = 0\n",
        "denominador = 1\n",
        "\n",
        "print(\"\\nSérie:\")\n",
        "for numerador in range(1, n + 1):\n",
        "    termo = numerador / denominador\n",
        "    soma += termo\n",
        "\n",
        "    print(f\"({numerador}/{denominador})\", end=' + ' if numerador < n else '')\n",
        "\n",
        "    denominador += 2\n",
        "\n",
        "print(f\"\\n\\nSoma da série com {n} termos: {soma:.4f}\")\n"
      ],
      "metadata": {
        "id": "Tj-CfjWMOIU6"
      },
      "execution_count": null,
      "outputs": []
    },
    {
      "cell_type": "markdown",
      "source": [
        "LISTA DO MÁRCIO"
      ],
      "metadata": {
        "id": "GUBvEQhROIvg"
      }
    },
    {
      "cell_type": "markdown",
      "source": [
        "1. Soma dos números de uma lista\n",
        "Dada a lista numeros = [3, 7, 2, 8, 10], use um for para calcular a soma de todos os elementos.\n"
      ],
      "metadata": {
        "id": "7Md_edqiONx6"
      }
    },
    {
      "cell_type": "code",
      "source": [
        "numeros = [3, 7, 2, 8, 10]\n",
        "soma = 0\n",
        "\n",
        "for numero in numeros:\n",
        "    soma += numero\n",
        "\n",
        "print(\"A soma dos números é:\", soma)\n"
      ],
      "metadata": {
        "id": "6hUcnnBIOoYy"
      },
      "execution_count": null,
      "outputs": []
    },
    {
      "cell_type": "markdown",
      "source": [
        "2. Contagem de vogais em uma string\n",
        "Peça uma palavra ao usuário e use um for para contar quantas vogais (a, e, i, o, u) existem."
      ],
      "metadata": {
        "id": "dA3HCWS_Ooxp"
      }
    },
    {
      "cell_type": "code",
      "source": [
        "palavra = input(\"Digite uma palavra: \").lower()\n",
        "vogais = \"aeiou\"\n",
        "contador = 0\n",
        "\n",
        "for letra in palavra:\n",
        "    if letra in vogais:\n",
        "        contador += 1\n",
        "\n",
        "print(\"Quantidade de vogais na palavra:\", contador)\n"
      ],
      "metadata": {
        "id": "wkDrBU5gOtoZ"
      },
      "execution_count": null,
      "outputs": []
    },
    {
      "cell_type": "markdown",
      "source": [
        "3. Inverter lista usando while\n",
        "Dada a lista nomes = [\"Ana\", \"João\", \"Carlos\", \"Maria\"], use um while para inverter a ordem dos elementos (sem usar reverse() ou slicing)."
      ],
      "metadata": {
        "id": "qAgnJVMBOt7p"
      }
    },
    {
      "cell_type": "code",
      "source": [
        "nomes = [\"Ana\", \"João\", \"Carlos\", \"Maria\"]\n",
        "invertida = []\n",
        "\n",
        "i = len(nomes) - 1\n",
        "\n",
        "while i >= 0:\n",
        "    invertida.append(nomes[i])\n",
        "    i -= 1\n",
        "\n",
        "print(\"Lista original:\", nomes)\n",
        "print(\"Lista invertida:\", invertida)\n"
      ],
      "metadata": {
        "id": "IGN4T7cOO4iZ"
      },
      "execution_count": null,
      "outputs": []
    },
    {
      "cell_type": "markdown",
      "source": [
        "4. Maior número em uma lista\n",
        "Escreva um programa que percorra uma lista de inteiros e encontre o maior valor.\n"
      ],
      "metadata": {
        "id": "INgCqL9yO4yh"
      }
    },
    {
      "cell_type": "code",
      "source": [
        "numeros = [10, 45, 3, 99, 67, 22]\n",
        "maior = numeros[0]\n",
        "\n",
        "for num in numeros:\n",
        "    if num > maior:\n",
        "        maior = num\n",
        "\n",
        "print(\"O maior número da lista é:\", maior)\n"
      ],
      "metadata": {
        "id": "AglE5axAO9ui"
      },
      "execution_count": null,
      "outputs": []
    },
    {
      "cell_type": "markdown",
      "source": [
        "5. Remover elementos repetidos de uma lista\n",
        "Usando um for, percorra a lista valores = [1, 2, 2, 3, 4, 4, 5] e crie uma nova lista apenas com elementos únicos.\n"
      ],
      "metadata": {
        "id": "B9IJ98KNO-Ap"
      }
    },
    {
      "cell_type": "code",
      "source": [
        "valores = [1, 2, 2, 3, 4, 4, 5]\n",
        "unicos = []\n",
        "\n",
        "for valor in valores:\n",
        "    if valor not in unicos:\n",
        "        unicos.append(valor)\n",
        "\n",
        "print(\"Lista original:\", valores)\n",
        "print(\"Lista sem repetidos:\", unicos)\n",
        "\n"
      ],
      "metadata": {
        "id": "rlkGjaGePFbK"
      },
      "execution_count": null,
      "outputs": []
    },
    {
      "cell_type": "markdown",
      "source": [
        "6. Verificar se palavra é palíndromo\n",
        "Peça uma palavra ao usuário e use while ou for para verificar se ela é igual de frente para trás (ex.: \"arara\")."
      ],
      "metadata": {
        "id": "ym7AOzFsPFxJ"
      }
    },
    {
      "cell_type": "code",
      "source": [
        "palavra = input(\"Digite uma palavra: \").lower()\n",
        "eh_palindromo = True\n",
        "\n",
        "tamanho = len(palavra)\n",
        "\n",
        "for i in range(tamanho // 2):\n",
        "    if palavra[i] != palavra[tamanho - 1 - i]:\n",
        "        eh_palindromo = False\n",
        "        break\n",
        "\n",
        "if eh_palindromo:\n",
        "    print(\"É um palíndromo!\")\n",
        "else:\n",
        "    print(\" Não é um palíndromo.\")\n"
      ],
      "metadata": {
        "id": "bSr__OOYPPsj"
      },
      "execution_count": null,
      "outputs": []
    },
    {
      "cell_type": "markdown",
      "source": [
        "7. Contagem regressiva com while\n",
        "\n",
        "Peça ao usuário um número e faça uma contagem regressiva até 0."
      ],
      "metadata": {
        "id": "9qICJsnjPQCz"
      }
    },
    {
      "cell_type": "code",
      "source": [
        "numero = int(input(\"Digite um número para iniciar a contagem regressiva: \"))\n",
        "\n",
        "while numero >= 0:\n",
        "    print(numero)\n",
        "    numero -= 1\n",
        "\n",
        "print(\"Contagem regressiva finalizada!\")\n"
      ],
      "metadata": {
        "id": "jtPWi3qiPQ78"
      },
      "execution_count": null,
      "outputs": []
    },
    {
      "cell_type": "markdown",
      "source": [
        "8. Percorrendo um dicionário de notas\n",
        "Dado o dicionário notas = {\"Ana\": 8, \"Carlos\": 7, \"Maria\": 10}, use um for para exibir cada aluno com sua nota.\n"
      ],
      "metadata": {
        "id": "Jjg3x50_PRW0"
      }
    },
    {
      "cell_type": "code",
      "source": [
        "notas = {\"Ana\": 8, \"Carlos\": 7, \"Maria\": 10}\n",
        "\n",
        "for aluno, nota in notas.items():\n",
        "    print(f\"{aluno} tirou nota {nota}\")\n"
      ],
      "metadata": {
        "id": "WO04NJhXPWM-"
      },
      "execution_count": null,
      "outputs": []
    },
    {
      "cell_type": "markdown",
      "source": [
        "9.Filtrar números pares de uma lista\n",
        "\n",
        "Dada a lista numeros = [10, 21, 32, 43, 54], use um for para criar uma nova lista contendo apenas os pares.\n"
      ],
      "metadata": {
        "id": "HQXxKy_XPWb0"
      }
    },
    {
      "cell_type": "code",
      "source": [
        "numeros = [10, 21, 32, 43, 54]\n",
        "pares = []\n",
        "\n",
        "for num in numeros:\n",
        "    if num % 2 == 0:\n",
        "        pares.append(num)\n",
        "\n",
        "print(\"Números pares:\", pares)\n"
      ],
      "metadata": {
        "id": "B1jszuraPjJA"
      },
      "execution_count": null,
      "outputs": []
    },
    {
      "cell_type": "markdown",
      "source": [
        "10. Contador de palavras em uma frase\n",
        "Peça ao usuário uma frase, divida em palavras (split()) e use um dicionário para contar quantas vezes cada palavra aparece.\n",
        "Com manipulação de listas, tuplas e dicionários:"
      ],
      "metadata": {
        "id": "KFf76jwtPjkN"
      }
    },
    {
      "cell_type": "code",
      "source": [
        "\n",
        "def contar_palavras():\n",
        "\n",
        "    frase = input(\"Digite uma frase: \")\n",
        "\n",
        "\n",
        "    palavras = frase.split()\n",
        "\n",
        "\n",
        "    contagem = {}\n",
        "\n",
        "\n",
        "    for palavra in palavras:\n",
        "\n",
        "        if palavra in contagem:\n",
        "            contagem[palavra] += 1\n",
        "\n",
        "        else:\n",
        "            contagem[palavra] = 1\n",
        "\n",
        "\n",
        "    return contagem\n",
        "\n",
        "\n",
        "resultado = contar_palavras()\n",
        "print(\"\\nContagem das palavras:\", resultado)\n"
      ],
      "metadata": {
        "id": "QhetsrAgdlzD"
      },
      "execution_count": null,
      "outputs": []
    },
    {
      "cell_type": "markdown",
      "source": [
        "OUTRA LISTA"
      ],
      "metadata": {
        "id": "n39G7O9UPp5Y"
      }
    },
    {
      "cell_type": "markdown",
      "source": [
        "1. Tuplas - Acesso e Desempacotamento\n",
        "Crie uma tupla contendo três tipos diferentes de dados: um número, uma string e uma lista. Use um laço de repetição para acessar e imprimir cada item da tupla. Além disso, dentro do laço, acesse e imprima o segundo item da lista que está dentro da tupla."
      ],
      "metadata": {
        "id": "43u5EjIAP06a"
      }
    },
    {
      "cell_type": "code",
      "source": [
        "\n",
        "minha_tupla = (10, \"Python\", [1, 2, 3, 4, 5])\n",
        "\n",
        "\n",
        "for item in minha_tupla:\n",
        "    print(\"Item da tupla:\", item)\n",
        "\n",
        "\n",
        "    if isinstance(item, list):\n",
        "        print(\"Segundo item da lista:\", item[1])\n"
      ],
      "metadata": {
        "id": "hyPXFtPDPvro"
      },
      "execution_count": null,
      "outputs": []
    },
    {
      "cell_type": "markdown",
      "source": [
        "2. Cadastro de Pessoas e Análise de Alturas\n",
        "Solicite ao usuário para inserir o nome e a altura de várias pessoas. Preencha um dicionário com essas informações e depois encontre e imprima o nome e a altura da pessoa mais alta e da mais baixa.\n"
      ],
      "metadata": {
        "id": "2-ZHjfQIP3C6"
      }
    },
    {
      "cell_type": "code",
      "source": [
        "\n",
        "def cadastro_alturas():\n",
        "\n",
        "    pessoas = {}\n",
        "\n",
        "\n",
        "    while True:\n",
        "        nome = input(\"Digite o nome da pessoa (ou 'fim' para encerrar): \")\n",
        "        if nome.lower() == 'fim':\n",
        "            break\n",
        "\n",
        "        try:\n",
        "            altura = float(input(f\"Digite a altura de {nome} em metros: \"))\n",
        "        except ValueError:\n",
        "            print(\"Por favor, insira um valor numérico válido para a altura.\")\n",
        "            continue\n",
        "\n",
        "\n",
        "        pessoas[nome] = altura\n",
        "\n",
        "\n",
        "    if pessoas:\n",
        "\n",
        "        mais_alta = max(pessoas, key=pessoas.get)\n",
        "        mais_baixa = min(pessoas, key=pessoas.get)\n",
        "\n",
        "\n",
        "        print(f\"\\nA pessoa mais alta é {mais_alta} com {pessoas[mais_alta]} metros.\")\n",
        "        print(f\"A pessoa mais baixa é {mais_baixa} com {pessoas[mais_baixa]} metros.\")\n",
        "    else:\n",
        "        print(\"Nenhuma pessoa foi cadastrada.\")\n",
        "\n",
        "\n",
        "cadastro_alturas()\n"
      ],
      "metadata": {
        "id": "1GsuTgIXP2Py"
      },
      "execution_count": null,
      "outputs": []
    },
    {
      "cell_type": "markdown",
      "source": [
        "3. Lista, laços e Condicionais\n",
        "Descrição: Crie uma listacom cinco números inteiros. Use um laço de repetição e uma condicional para imprimir apenas os números que são múltiplos de 3.\n"
      ],
      "metadata": {
        "id": "Qv_7YBa9P9M3"
      }
    },
    {
      "cell_type": "code",
      "source": [
        "\n",
        "numeros = [4, 9, 15, 8, 21]\n",
        "\n",
        "\n",
        "for numero in numeros:\n",
        "\n",
        "    if numero % 3 == 0:\n",
        "        print(f\"{numero} é múltiplo de 3\")\n"
      ],
      "metadata": {
        "id": "ONYxvbxzQDai"
      },
      "execution_count": null,
      "outputs": []
    },
    {
      "cell_type": "markdown",
      "source": [
        "4. Manipulação de Strings e Condicionais\n",
        "Descrição: Crie uma string com uma frase. Use uma condicional para verificar se a frase contém a palavra \"Python\". Se sim, substitua a palavra \"Python\" por \"programação\" e imprima a nova frase.\n"
      ],
      "metadata": {
        "id": "J3NHPFdnQH8O"
      }
    },
    {
      "cell_type": "code",
      "source": [
        "\n",
        "frase = \"Eu estou aprendendo Python porque adoro Python!\"\n",
        "\n",
        "\n",
        "if \"Python\" in frase:\n",
        "\n",
        "    nova_frase = frase.replace(\"Python\", \"programação\")\n",
        "    print(\"Nova frase:\", nova_frase)\n",
        "else:\n",
        "    print(\"A palavra 'Python' não foi encontrada na frase.\")\n"
      ],
      "metadata": {
        "id": "PMXvmr3sQI3N"
      },
      "execution_count": null,
      "outputs": []
    },
    {
      "cell_type": "markdown",
      "source": [
        "5. Simulação de Alfândega com Cadastro Dinâmico de Itens usando dicionário\n",
        "Simule uma situação de alfândega onde o funcionário cadastra itens novos encontrados na mala de uma pessoa que veio de uma viagem internacional. Após o cadastro de todos os itens, o programa imprime uma nota com todos os itens e seus preços, calcula o valor total e, se o valor total ultrapassar 500 dólares, calcula o valor de 60% a ser pago.\n"
      ],
      "metadata": {
        "id": "_qgTNvS0QMl9"
      }
    },
    {
      "cell_type": "code",
      "source": [
        "def alfandega():\n",
        "    itens = {}\n",
        "\n",
        "    print(\"Cadastro de itens encontrados na mala (digite 'fim' para encerrar)\")\n",
        "\n",
        "    while True:\n",
        "        nome_item = input(\"Nome do item: \")\n",
        "        if nome_item.lower() == 'fim':\n",
        "            break\n",
        "\n",
        "        try:\n",
        "            preco_item = float(input(f\"Preço do {nome_item} em dólares: \"))\n",
        "        except ValueError:\n",
        "            print(\"Preço inválido! Por favor, digite um número.\")\n",
        "            continue\n",
        "\n",
        "        itens[nome_item] = preco_item\n",
        "\n",
        "    if not itens:\n",
        "        print(\"Nenhum item cadastrado.\")\n",
        "        return\n",
        "\n",
        "    print(\"\\n--- Nota de Alfândega ---\")\n",
        "    total = 0\n",
        "    for item, preco in itens.items():\n",
        "        print(f\"{item}: ${preco:.2f}\")\n",
        "        total += preco\n",
        "\n",
        "    print(f\"\\nValor total dos itens: ${total:.2f}\")\n",
        "\n",
        "    if total > 500:\n",
        "        taxa = total * 0.60\n",
        "        print(f\"Valor ultrapassa $500. Taxa a pagar (60%): ${taxa:.2f}\")\n",
        "    else:\n",
        "        print(\"Valor dentro do limite. Nenhuma taxa a pagar.\")\n",
        "\n",
        "alfandega()\n"
      ],
      "metadata": {
        "id": "zIbRp5GjQN1m"
      },
      "execution_count": null,
      "outputs": []
    },
    {
      "cell_type": "markdown",
      "source": [
        "6. Identificação de Palavras Negativas em um Texto\n",
        "Você vai criar um programa em Python para analisar um texto e identificar palavras que expressam pensamentos negativos. Para isso, você usará uma lista de palavras negativas fornecida e verificará quais dessas palavras estão presentes no texto fornecido pelo usuário. Exemplo de palavras negtivas, acrescente mais na lista: # Lista de palavras negativas palavras_negativas = ['triste', 'deprimido', 'ansioso', 'desapontado', 'frustrado']"
      ],
      "metadata": {
        "id": "4xK-7ad2QOPF"
      }
    },
    {
      "cell_type": "code",
      "source": [
        "\n",
        "palavras_negativas = ['triste', 'deprimido', 'ansioso', 'desapontado', 'frustrado', 'irritado', 'preocupado', 'inseguro', 'nervoso', 'desanimado']\n",
        "\n",
        "def identificar_palavras_negativas(texto):\n",
        "\n",
        "    texto = texto.lower()\n",
        "\n",
        "\n",
        "    encontradas = []\n",
        "\n",
        "    for palavra in palavras_negativas:\n",
        "        if palavra in texto:\n",
        "            encontradas.append(palavra)\n",
        "\n",
        "    return encontradas\n",
        "\n",
        "\n",
        "texto_usuario = input(\"Digite um texto para análise: \")\n",
        "\n",
        "\n",
        "negativas_encontradas = identificar_palavras_negativas(texto_usuario)\n",
        "\n",
        "\n",
        "if negativas_encontradas:\n",
        "    print(\"Palavras negativas encontradas no texto:\")\n",
        "    for p in negativas_encontradas:\n",
        "        print(\"-\", p)\n",
        "else:\n",
        "    print(\"Nenhuma palavra negativa encontrada no texto.\")\n"
      ],
      "metadata": {
        "id": "q6DzgL-bQS1-"
      },
      "execution_count": null,
      "outputs": []
    }
  ]
}