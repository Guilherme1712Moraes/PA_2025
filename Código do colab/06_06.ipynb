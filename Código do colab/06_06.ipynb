{
  "nbformat": 4,
  "nbformat_minor": 0,
  "metadata": {
    "colab": {
      "provenance": [],
      "authorship_tag": "ABX9TyNyKTNJGgJzJO3QhmgF6IfL",
      "include_colab_link": true
    },
    "kernelspec": {
      "name": "python3",
      "display_name": "Python 3"
    },
    "language_info": {
      "name": "python"
    }
  },
  "cells": [
    {
      "cell_type": "markdown",
      "metadata": {
        "id": "view-in-github",
        "colab_type": "text"
      },
      "source": [
        "<a href=\"https://colab.research.google.com/github/Guilherme171200/PA_2025/blob/main/06_06.ipynb\" target=\"_parent\"><img src=\"https://colab.research.google.com/assets/colab-badge.svg\" alt=\"Open In Colab\"/></a>"
      ]
    },
    {
      "cell_type": "markdown",
      "source": [
        "ex. 1\n"
      ],
      "metadata": {
        "id": "6FsZz1lOgNJm"
      }
    },
    {
      "cell_type": "code",
      "source": [
        "# Exercício 1: Número Positivo ou Negativo\n",
        "\n",
        "# Pede um número ao usuário\n",
        "numero = float(input(\"Digite um número: \"))\n",
        "\n",
        "# Verifica se o número é positivo, negativo ou zero\n",
        "if numero > 0:\n",
        "    print(\"O número é positivo.\")\n",
        "elif numero < 0:\n",
        "    print(\"O número é negativo.\")\n",
        "else:\n",
        "    print(\"O número é zero.\")"
      ],
      "metadata": {
        "id": "0EdpTwQ1gQwl"
      },
      "execution_count": null,
      "outputs": []
    },
    {
      "cell_type": "markdown",
      "source": [
        "ex. 2"
      ],
      "metadata": {
        "id": "RRMIWB5lgTEU"
      }
    },
    {
      "cell_type": "code",
      "source": [
        "# Exercício 2: Par ou Ímpar\n",
        "\n",
        "# Pede um número inteiro ao usuário\n",
        "numero = int(input(\"Digite um número inteiro: \"))\n",
        "\n",
        "# Verifica se o número é par ou ímpar\n",
        "if numero % 2 == 0:\n",
        "    print(\"O número é par.\")\n",
        "else:\n",
        "    print(\"O número é ímpar.\")"
      ],
      "metadata": {
        "id": "RvL0r7LegU2b"
      },
      "execution_count": null,
      "outputs": []
    },
    {
      "cell_type": "markdown",
      "source": [
        "ex. 3"
      ],
      "metadata": {
        "id": "As1CByCKgb2j"
      }
    },
    {
      "cell_type": "code",
      "source": [
        "# Exercício 3: Verificar maior de idade\n",
        "\n",
        "# Pede a idade do usuário\n",
        "idade = int(input(\"Digite sua idade: \"))\n",
        "\n",
        "# Verifica se é maior de idade\n",
        "if idade >= 18:\n",
        "    print(\"Você é maior de idade.\")\n",
        "else:\n",
        "    print(\"Você é menor de idade.\")"
      ],
      "metadata": {
        "id": "Je5d58yJgdZc"
      },
      "execution_count": null,
      "outputs": []
    },
    {
      "cell_type": "markdown",
      "source": [
        "ex. 4"
      ],
      "metadata": {
        "id": "QqkD54jngjRO"
      }
    },
    {
      "cell_type": "code",
      "source": [
        "# Exercício 4: Senha correta\n",
        "\n",
        "# Pede a senha ao usuário\n",
        "senha = input(\"Digite a senha: \")\n",
        "\n",
        "# Verifica se a senha está correta\n",
        "if senha == \"1234\":\n",
        "    print(\"Acesso permitido.\")\n",
        "else:\n",
        "    print(\"Senha incorreta.\")"
      ],
      "metadata": {
        "id": "AvUK3jQyglIe"
      },
      "execution_count": null,
      "outputs": []
    },
    {
      "cell_type": "markdown",
      "source": [
        "ex. 5"
      ],
      "metadata": {
        "id": "AswVieFkgva1"
      }
    },
    {
      "cell_type": "code",
      "source": [
        "# Exercício 5: Nota e aprovação\n",
        "\n",
        "# Pede a nota do aluno\n",
        "nota = float(input(\"Digite a nota do aluno (0 a 10): \"))\n",
        "\n",
        "# Verifica se a nota está dentro do intervalo válido\n",
        "if nota < 0 or nota > 10:\n",
        "    print(\"Nota inválida. Digite um valor entre 0 e 10.\")\n",
        "# Verifica se está aprovado\n",
        "elif nota >= 6:\n",
        "    print(\"Aluno aprovado!\")\n",
        "else:\n",
        "    print(\"Aluno reprovado.\")"
      ],
      "metadata": {
        "id": "ydbs4CxIgxe1"
      },
      "execution_count": null,
      "outputs": []
    },
    {
      "cell_type": "markdown",
      "source": [
        "ex. 6"
      ],
      "metadata": {
        "id": "qtChhkwBhAR0"
      }
    },
    {
      "cell_type": "code",
      "source": [
        "# Exercício 6: Múltiplo de 3 e/ou 5\n",
        "\n",
        "# Pede um número ao usuário\n",
        "numero = int(input(\"Digite um número: \"))\n",
        "\n",
        "# Verifica se é múltiplo de 3, de 5 ou de ambos\n",
        "if numero % 3 == 0 and numero % 5 == 0:\n",
        "    print(\"O número é múltiplo de 3 e 5.\")\n",
        "elif numero % 3 == 0:\n",
        "    print(\"O número é múltiplo de 3.\")\n",
        "elif numero % 5 == 0:\n",
        "    print(\"O número é múltiplo de 5.\")\n",
        "else:\n",
        "    print(\"O número não é múltiplo de 3 nem de 5.\")"
      ],
      "metadata": {
        "id": "VZF_8QrahET7"
      },
      "execution_count": null,
      "outputs": []
    },
    {
      "cell_type": "markdown",
      "source": [
        "ex. 7"
      ],
      "metadata": {
        "id": "Redu1CjvhNTM"
      }
    },
    {
      "cell_type": "code",
      "source": [
        "# Exercício 7: Número dentro de intervalo\n",
        "\n",
        "# Pede um número ao usuário\n",
        "numero = float(input(\"Digite um número: \"))\n",
        "\n",
        "# Verifica se está no intervalo entre 10 e 20 (inclusive)\n",
        "if 10 <= numero <= 20:\n",
        "    print(\"O número está dentro do intervalo de 10 a 20.\")\n",
        "else:\n",
        "    print(\"O número está fora do intervalo de 10 a 20.\")"
      ],
      "metadata": {
        "id": "VUgJQvW4hUCD"
      },
      "execution_count": null,
      "outputs": []
    },
    {
      "cell_type": "markdown",
      "source": [
        "ex. 8"
      ],
      "metadata": {
        "id": "AL_tuCarhVej"
      }
    },
    {
      "cell_type": "code",
      "source": [
        "# Exercício 8: Classificação do Triângulo\n",
        "\n",
        "# Pede os três lados do triângulo\n",
        "lado1 = float(input(\"Digite o primeiro lado do triângulo: \"))\n",
        "lado2 = float(input(\"Digite o segundo lado do triângulo: \"))\n",
        "lado3 = float(input(\"Digite o terceiro lado do triângulo: \"))\n",
        "\n",
        "# Verifica se é possível formar um triângulo (condição da existência)\n",
        "if (lado1 + lado2 > lado3) and (lado1 + lado3 > lado2) and (lado2 + lado3 > lado1):\n",
        "    # Classifica o triângulo\n",
        "    if lado1 == lado2 == lado3:\n",
        "        print(\"Triângulo Equilátero (3 lados iguais).\")\n",
        "    elif lado1 == lado2 or lado1 == lado3 or lado2 == lado3:\n",
        "        print(\"Triângulo Isósceles (2 lados iguais).\")\n",
        "    else:\n",
        "        print(\"Triângulo Escaleno (3 lados diferentes).\")\n",
        "else:\n",
        "    print(\"Não é possível formar um triângulo com esses lados.\")"
      ],
      "metadata": {
        "id": "l_0FU6OJhXZT"
      },
      "execution_count": null,
      "outputs": []
    }
  ]
}