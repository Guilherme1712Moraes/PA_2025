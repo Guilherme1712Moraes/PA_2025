{
  "cells": [
    {
      "cell_type": "markdown",
      "metadata": {
        "id": "view-in-github",
        "colab_type": "text"
      },
      "source": [
        "<a href=\"https://colab.research.google.com/github/Guilherme1712Moraes/PA_2025/blob/main/C%C3%B3pia_de_exercicios_loops_strings_dicionarios_05_09.ipynb\" target=\"_parent\"><img src=\"https://colab.research.google.com/assets/colab-badge.svg\" alt=\"Open In Colab\"/></a>"
      ]
    },
    {
      "cell_type": "markdown",
      "id": "50e41763",
      "metadata": {
        "id": "50e41763"
      },
      "source": [
        "# Lista de Exercícios - Python (Loops, Strings e Dicionários)\n",
        "Este notebook contém 15 exercícios para praticar `for`, `while`, manipulação de **strings** e **dicionários`."
      ]
    },
    {
      "cell_type": "markdown",
      "id": "6c5e8da0",
      "metadata": {
        "id": "6c5e8da0"
      },
      "source": [
        "### 1. **Contagem de vogais**: Peça uma palavra e conte quantas vezes cada vogal aparece (usar `for` ou `while`)."
      ]
    },
    {
      "cell_type": "code",
      "execution_count": 1,
      "id": "15f84469",
      "metadata": {
        "id": "15f84469",
        "outputId": "e30a7338-5991-4c73-80a1-2f83e95c8204",
        "colab": {
          "base_uri": "https://localhost:8080/"
        }
      },
      "outputs": [
        {
          "output_type": "stream",
          "name": "stdout",
          "text": [
            "Digite uma palavra: macaco\n",
            "Contagem das vogais:\n",
            "a: 2\n",
            "e: 0\n",
            "i: 0\n",
            "o: 1\n",
            "u: 0\n"
          ]
        }
      ],
      "source": [
        "# Sua resposta aqui\n",
        "palavra = input(\"Digite uma palavra: \")\n",
        "vogais = \"aeiou\"\n",
        "contagem_vogais = {\"a\": 0, \"e\": 0, \"i\": 0, \"o\": 0, \"u\": 0}\n",
        "\n",
        "for letra in palavra:\n",
        "    if letra.lower() in vogais:\n",
        "        contagem_vogais[letra.lower()] += 1\n",
        "\n",
        "print(\"Contagem das vogais:\")\n",
        "for vogal, contagem in contagem_vogais.items():\n",
        "    print(f\"{vogal}: {contagem}\")"
      ]
    },
    {
      "cell_type": "markdown",
      "id": "2446d942",
      "metadata": {
        "id": "2446d942"
      },
      "source": [
        "### 2. **Inversão de string**: Solicite uma frase e mostre-a invertida **sem usar slicing** (`[::-1]` não vale). Use `while`."
      ]
    },
    {
      "cell_type": "code",
      "execution_count": null,
      "id": "4bd947d4",
      "metadata": {
        "id": "4bd947d4"
      },
      "outputs": [],
      "source": [
        "# Sua resposta aqui\n",
        "frase = input(\"Digite uma frase: \")\n",
        "invertida = \"\"\n",
        "i = len(frase) - 1\n",
        "while i >= 0:\n",
        "    invertida += frase[i]\n",
        "    i -= 1\n",
        "print(\"A frase invertida é:\", invertida)"
      ]
    },
    {
      "cell_type": "markdown",
      "id": "096a5b5d",
      "metadata": {
        "id": "096a5b5d"
      },
      "source": [
        "### 3. **Frequência de caracteres**: Dada uma string, crie um dicionário que mostre quantas vezes cada caractere aparece."
      ]
    },
    {
      "cell_type": "code",
      "execution_count": null,
      "id": "bd28dd49",
      "metadata": {
        "id": "bd28dd49"
      },
      "outputs": [],
      "source": [
        "# Sua resposta aqui\n",
        "frase = input(\"Digite uma frase: \")\n",
        "frequencia = {}\n",
        "for caractere in frase:\n",
        "    if caractere in frequencia:\n",
        "        frequencia[caractere] += 1\n",
        "    else:\n",
        "        frequencia[caractere] = 1\n",
        "print(\"Frequência dos caracteres:\", frequencia)"
      ]
    },
    {
      "cell_type": "markdown",
      "id": "d046cc57",
      "metadata": {
        "id": "d046cc57"
      },
      "source": [
        "### 4. **Palavras únicas**: Peça uma frase e mostre as palavras que aparecem **apenas uma vez**."
      ]
    },
    {
      "cell_type": "code",
      "execution_count": null,
      "id": "092bef79",
      "metadata": {
        "id": "092bef79"
      },
      "outputs": [],
      "source": [
        "# Sua resposta aqui\n",
        "frase = input(\"Digite uma frase: \")\n",
        "palavras = frase.split()\n",
        "contagem_palavras = {}\n",
        "for palavra in palavras:\n",
        "    if palavra in contagem_palavras:\n",
        "        contagem_palavras[palavra] += 1\n",
        "    else:\n",
        "        contagem_palavras[palavra] = 1\n",
        "palavras_unicas = [palavra for palavra, contagem in contagem_palavras.items() if contagem == 1]\n",
        "print(\"Palavras que aparecem apenas uma vez:\", palavras_unicas)"
      ]
    },
    {
      "cell_type": "markdown",
      "id": "3ea99323",
      "metadata": {
        "id": "3ea99323"
      },
      "source": [
        "### 5. **Substituição manual**: Peça uma string e duas letras: substitua **manualmente** todas as ocorrências da primeira letra pela segunda, usando laço."
      ]
    },
    {
      "cell_type": "code",
      "execution_count": null,
      "id": "4d1406be",
      "metadata": {
        "id": "4d1406be"
      },
      "outputs": [],
      "source": [
        "# Sua resposta aqui\n",
        "frase = input(\"Digite uma frase: \")\n",
        "letra_antiga = input(\"Digite a letra a ser substituída: \")\n",
        "letra_nova = input(\"Digite a nova letra: \")\n",
        "nova_frase = \"\"\n",
        "for caractere in frase:\n",
        "    if caractere == letra_antiga:\n",
        "        nova_frase += letra_nova\n",
        "    else:\n",
        "        nova_frase += caractere\n",
        "print(\"Frase com substituição:\", nova_frase)"
      ]
    },
    {
      "cell_type": "markdown",
      "id": "870e9e64",
      "metadata": {
        "id": "870e9e64"
      },
      "source": [
        "### 6. **Palíndromo**: Verifique se uma palavra é um **palíndromo** sem usar funções prontas de reversão."
      ]
    },
    {
      "cell_type": "code",
      "execution_count": null,
      "id": "87824151",
      "metadata": {
        "id": "87824151"
      },
      "outputs": [],
      "source": [
        "# Sua resposta aqui\n",
        "palavra = input(\"Digite uma palavra: \")\n",
        "inicio = 0\n",
        "fim = len(palavra) - 1\n",
        "eh_palindromo = True\n",
        "while inicio < fim:\n",
        "    if palavra[inicio] != palavra[fim]:\n",
        "        eh_palindromo = False\n",
        "        break\n",
        "    inicio += 1\n",
        "    fim -= 1\n",
        "if eh_palindromo:\n",
        "    print(f\"A palavra '{palavra}' é um palíndromo.\")\n",
        "else:\n",
        "    print(f\"A palavra '{palavra}' não é um palíndromo.\")"
      ]
    },
    {
      "cell_type": "markdown",
      "id": "ce1b0e1f",
      "metadata": {
        "id": "ce1b0e1f"
      },
      "source": [
        "### 7. **Enigma da senha**: Peça uma string e crie uma nova palavra pegando apenas as letras nas **posições ímpares**."
      ]
    },
    {
      "cell_type": "code",
      "execution_count": null,
      "id": "9fc744d2",
      "metadata": {
        "id": "9fc744d2"
      },
      "outputs": [],
      "source": [
        "# Sua resposta aqui\n",
        "frase = input(\"Digite uma frase: \")\n",
        "nova_palavra = \"\"\n",
        "\n",
        "for i in range(1, len(frase), 2):\n",
        "    nova_palavra += frase[i]\n",
        "\n",
        "print(\"A nova palavra é:\", nova_palavra)"
      ]
    },
    {
      "cell_type": "markdown",
      "id": "42fe1350",
      "metadata": {
        "id": "42fe1350"
      },
      "source": [
        "### 8. **Expansão de abreviações**: Dado um dicionário de abreviações, substitua manualmente cada ocorrência em uma frase.\n",
        "\n",
        "(Ex: (vc: você, blz: beleza ..."
      ]
    },
    {
      "cell_type": "code",
      "execution_count": null,
      "id": "e63acd2a",
      "metadata": {
        "id": "e63acd2a"
      },
      "outputs": [],
      "source": [
        "# Sua resposta aqui\n",
        "abreviacoes = {\n",
        "    \"vc\": \"você\",\n",
        "    \"tb\": \"também\",\n",
        "    \"pq\": \"porque\",\n",
        "    \"qt\": \"quanto\",\n",
        "    \"lol\": \"rindo muito\",\n",
        "}\n",
        "frase = input(\"Digite uma frase: \")\n",
        "palavras = frase.split()\n",
        "nova_frase = []\n",
        "for palavra in palavras:\n",
        "    if palavra in abreviacoes:\n",
        "        nova_frase.append(abreviacoes[palavra])\n",
        "    else:\n",
        "        nova_frase.append(palavra)\n",
        "frase_expandidas = \" \".join(nova_frase)\n",
        "print(\"Frase com as abreviações expandidas:\", frase_expandidas)"
      ]
    },
    {
      "cell_type": "markdown",
      "id": "3cf96a02",
      "metadata": {
        "id": "3cf96a02"
      },
      "source": [
        "### 9. **Criptografia simples**: Implemente uma cifra de substituição onde cada letra é trocada pela **próxima no alfabeto** (z → a)."
      ]
    },
    {
      "cell_type": "code",
      "execution_count": null,
      "id": "c8a0d724",
      "metadata": {
        "id": "c8a0d724"
      },
      "outputs": [],
      "source": [
        "# Sua resposta aqui\n",
        "texto = input(\"Digite o texto a ser criptografado: \")\n",
        "resultado = \"\"\n",
        "\n",
        "for char in texto:\n",
        "    if 'a' <= char <= 'z':\n",
        "        resultado += chr(((ord(char) - ord('a') + 1) % 26) + ord('a'))\n",
        "    elif 'A' <= char <= 'Z':\n",
        "        resultado += chr(((ord(char) - ord('A') + 1) % 26) + ord('A'))\n",
        "    else:\n",
        "        resultado += char\n",
        "\n",
        "print(\"Texto criptografia\", resultado)"
      ]
    },
    {
      "cell_type": "markdown",
      "id": "4897443b",
      "metadata": {
        "id": "4897443b"
      },
      "source": [
        "### 10. **Anagrama**: Verifique se duas palavras são **anagramas**, usando dicionário para contar ocorrências."
      ]
    },
    {
      "cell_type": "code",
      "execution_count": null,
      "id": "4c53848e",
      "metadata": {
        "id": "4c53848e"
      },
      "outputs": [],
      "source": [
        "# Sua resposta aqui\n",
        "palavra1 = input(\"Digite a primeira palavra: \")\n",
        "palavra2 = input(\"Digite a segunda palavra: \")\n",
        "\n",
        "if len(palavra1) != len(palavra2):\n",
        "    print(f\"As palavras '{palavra1}' e '{palavra2}' não são anagramas.\")\n",
        "else:\n",
        "    contagem1 = {}\n",
        "    contagem2 = {}\n",
        "\n",
        "    for letra in palavra1:\n",
        "        if letra in contagem1:\n",
        "            contagem1[letra] += 1\n",
        "        else:\n",
        "            contagem1[letra] = 1\n",
        "\n",
        "    for letra in palavra2:\n",
        "        if letra in contagem2:\n",
        "            contagem2[letra] += 1\n",
        "        else:\n",
        "            contagem2[letra] = 1\n",
        "\n",
        "    if contagem1 == contagem2:\n",
        "        print(f\"As palavras '{palavra1}' e '{palavra2}' são anagramas.\")\n",
        "    else:\n",
        "        print(f\"As palavras '{palavra1}' e '{palavra2}' não são anagramas.\")"
      ]
    }
  ],
  "metadata": {
    "colab": {
      "provenance": [],
      "include_colab_link": true
    },
    "language_info": {
      "name": "python"
    },
    "kernelspec": {
      "name": "python3",
      "display_name": "Python 3"
    }
  },
  "nbformat": 4,
  "nbformat_minor": 5
}