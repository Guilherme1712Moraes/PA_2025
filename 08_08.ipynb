{
  "nbformat": 4,
  "nbformat_minor": 0,
  "metadata": {
    "colab": {
      "provenance": [],
      "authorship_tag": "ABX9TyP0u6ngOHfrsqCy70z8k/AW",
      "include_colab_link": true
    },
    "kernelspec": {
      "name": "python3",
      "display_name": "Python 3"
    },
    "language_info": {
      "name": "python"
    }
  },
  "cells": [
    {
      "cell_type": "markdown",
      "metadata": {
        "id": "view-in-github",
        "colab_type": "text"
      },
      "source": [
        "<a href=\"https://colab.research.google.com/github/Guilherme1712Moraes/PA_2025/blob/main/08_08.ipynb\" target=\"_parent\"><img src=\"https://colab.research.google.com/assets/colab-badge.svg\" alt=\"Open In Colab\"/></a>"
      ]
    },
    {
      "cell_type": "markdown",
      "source": [
        "EX-01"
      ],
      "metadata": {
        "id": "xQsfC7NoVMUj"
      }
    },
    {
      "cell_type": "code",
      "execution_count": null,
      "metadata": {
        "id": "gtsCQyjGVHfS"
      },
      "outputs": [],
      "source": [
        "cidades = [\"São Paulo\", \"Rio de Janeiro\", \"Belo Horizonte\", \"Curitiba\", \"Porto Alegre\"]\n",
        "cidades.append(\"Florianópolis\")\n",
        "cidades.pop(1)\n",
        "print(cidades)"
      ]
    },
    {
      "cell_type": "markdown",
      "source": [
        "EX-02\n"
      ],
      "metadata": {
        "id": "v0iGIuzLVWFC"
      }
    },
    {
      "cell_type": "code",
      "source": [
        "cores = (\"vermelho\", \"azul\", \"verde\", \"amarelo\")\n",
        "novas_cores = cores + (\"preto\", \"branco\")\n",
        "print(novas_cores)"
      ],
      "metadata": {
        "id": "YfBRE8RoVXq_"
      },
      "execution_count": null,
      "outputs": []
    },
    {
      "cell_type": "markdown",
      "source": [
        "EX-03"
      ],
      "metadata": {
        "id": "e-PooVxiVcCP"
      }
    },
    {
      "cell_type": "code",
      "source": [
        "aluno = {\"nome\": \"Maria\", \"idade\": 20, \"curso\": \"Engenharia\"}\n",
        "aluno[\"idade\"] = 21\n",
        "aluno[\"nota\"] = 9.5\n",
        "print(aluno)"
      ],
      "metadata": {
        "id": "0wmRAr7xVeDf"
      },
      "execution_count": null,
      "outputs": []
    },
    {
      "cell_type": "markdown",
      "source": [
        "EX-04"
      ],
      "metadata": {
        "id": "DqB7_mzVViQx"
      }
    },
    {
      "cell_type": "code",
      "source": [
        "produtos = [\n",
        "    {\"nome\": \"Notebook\", \"preço\": 3500},\n",
        "    {\"nome\": \"Celular\", \"preço\": 2000},\n",
        "    {\"nome\": \"Fone de Ouvido\", \"preço\": 150}\n",
        "]\n",
        "\n",
        "produtos.append({\"nome\": \"Mouse\", \"preço\": 80})\n",
        "produtos[0][\"preço\"] = 3200\n",
        "print(produtos)"
      ],
      "metadata": {
        "id": "MsnswrypVj1e"
      },
      "execution_count": null,
      "outputs": []
    },
    {
      "cell_type": "markdown",
      "source": [
        "EX-05"
      ],
      "metadata": {
        "id": "1DZdF5k9Vnr8"
      }
    },
    {
      "cell_type": "code",
      "source": [
        "pessoas = [(\"Ana\", 25), (\"Bruno\", 30), (\"Carla\", 28), (\"Diego\", 35)]\n",
        "\n",
        "mais_velha = max(pessoas, key=lambda x: x[1])[0]\n",
        "print(\"Pessoa mais velha:\", mais_velha)\n",
        "\n",
        "media_idades = sum(idade for _, idade in pessoas) / len(pessoas)\n",
        "print(\"Idade média:\", media_idades)"
      ],
      "metadata": {
        "id": "7zF1LvuLVpmS"
      },
      "execution_count": null,
      "outputs": []
    }
  ]
}