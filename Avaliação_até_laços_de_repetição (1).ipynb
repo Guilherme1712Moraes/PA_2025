{
 "cells": [
  {
   "cell_type": "markdown",
   "metadata": {
    "id": "oncsAo0QKXM4"
   },
   "source": [
    "Guilherme de Moraes Silva"
   ]
  },
  {
   "cell_type": "markdown",
   "metadata": {
    "id": "2Wtw01VyHzBQ"
   },
   "source": [
    "1)Crie um programa em python que imprima números pares\n",
    "\n",
    "a) Pedir o usuário para digitar uma lista com mínimo 10 números\n",
    "\n",
    "b) Criar uma nova somente com numeros pares\n",
    "\n",
    "c) Imprimir números pares"
   ]
  },
  {
   "cell_type": "code",
   "execution_count": 9,
   "metadata": {
    "id": "iBpbyKp8KNKX"
   },
   "outputs": [
    {
     "name": "stdin",
     "output_type": "stream",
     "text": [
      "Digite 10 números aqui:  2 1 \n"
     ]
    },
    {
     "name": "stdout",
     "output_type": "stream",
     "text": [
      "Precisamos de no mínimo 10 números.\n"
     ]
    }
   ],
   "source": [
    "numeros = input(\"Digite 10 números aqui: \").split()\n",
    "\n",
    "numeros = [int(num) for num in numeros]\n",
    "\n",
    "if len(numeros) < 10:\n",
    "    print(\"Precisamos de no mínimo 10 números.\")\n",
    "else:\n",
    "    numeros_pares = [num for num in numeros if num % 2 == 0]\n",
    "\n",
    "    print(\"Números pares:\", numeros_pares)\n"
   ]
  },
  {
   "cell_type": "markdown",
   "metadata": {
    "id": "bBYPSr8JHpUA"
   },
   "source": [
    "2)Crie um programa que conte quantas vezes cada palavra aparece em uma frase.\n",
    "\n",
    "Pedir ao usuário para digitar uma frase. Imprimir a palavra e quantas vezes ela aparece"
   ]
  },
  {
   "cell_type": "code",
   "execution_count": null,
   "metadata": {
    "id": "dQLlv-lPKPT4"
   },
   "outputs": [],
   "source": [
    "frase = input(\"Digite uma frase: \")\n",
    "frase = frase.lower ()\n",
    "import string\n",
    "frase = frase.translate(str.maketrans(' ', ' ', string.punctuation))\n",
    "\n",
    "palavras = frase.split ()\n",
    "\n",
    "contagem = {}\n",
    "\n",
    "for palavra in palavras:\n",
    "    if palavra in contagem:\n",
    "        contagem [palavra] += 1\n",
    "    else:\n",
    "        contagem [palavra] = 1\n",
    "for palavra, quantidade in contagem.items():\n",
    "    print(f'A palavra \" {palavra} \" aparece {quantidade} vez(es).')\n"
   ]
  },
  {
   "cell_type": "markdown",
   "metadata": {
    "id": "bbWz0aL2HjP3"
   },
   "source": [
    "3)Crie um programa em Python para avaliar um desfile de candidatas. O programa deve:\n",
    "\n",
    "a) Perguntar quantas candidatas vão participar.\n",
    "\n",
    "b) Perguntar o nome de cada candidata.\n",
    "\n",
    "c) Para cada candidata, receber 3 notas (uma de cada jurado).\n",
    "\n",
    "d) Somar as notas e guardar o total em um dicionário, onde a chave é o nome da candidata e o valor é a soma das notas.\n",
    "\n",
    "Mostrar ao final:\n",
    "\n",
    "a) A pontuação total de cada candidata.\n",
    "\n",
    "b) O nome da vencedora (a que tiver a maior pontuação)."
   ]
  },
  {
   "cell_type": "code",
   "execution_count": 7,
   "metadata": {
    "id": "wrhGujbvHebJ"
   },
   "outputs": [
    {
     "name": "stdin",
     "output_type": "stream",
     "text": [
      "Quantas candidatas irão participar no desfile?  2\n",
      "Coloque o nome da candidata aqui:  joana\n",
      "Digite a nota do primeiro jurado para joana:  4\n",
      "Digite a nota do segundo jurado para joana:  5\n",
      "Digite a nota do terceiro jurado para joana:  3\n",
      "Coloque o nome da candidata aqui:  manu\n",
      "Digite a nota do primeiro jurado para manu:  9\n",
      "Digite a nota do segundo jurado para manu:  1\n",
      "Digite a nota do terceiro jurado para manu:  30\n"
     ]
    },
    {
     "name": "stdout",
     "output_type": "stream",
     "text": [
      "\n",
      "Pontuação total de todas as candidatas:\n",
      "joana: 12.0\n",
      "manu: 40.0\n",
      "\n",
      "A vencedora é manu com a pontuação total de 40.0.\n"
     ]
    }
   ],
   "source": [
    "quantidade_candidatas = int(input(\"Quantas candidatas irão participar no desfile? \"))\n",
    "\n",
    "notas_candidatas = {}\n",
    "for _ in range(quantidade_candidatas):\n",
    "    nome = input(\"Coloque o nome da candidata aqui: \")\n",
    "    \n",
    "    nota1 = float(input(f\"Digite a nota do primeiro jurado para {nome}: \"))\n",
    "    nota2 = float(input(f\"Digite a nota do segundo jurado para {nome}: \"))\n",
    "    nota3 = float(input(f\"Digite a nota do terceiro jurado para {nome}: \"))\n",
    "    \n",
    "    total = nota1 + nota2 + nota3\n",
    "    notas_candidatas[nome] = total\n",
    "\n",
    "print(\"\\nPontuação total de todas as candidatas:\")\n",
    "for nome, total in notas_candidatas.items():\n",
    "    print(f\"{nome}: {total}\")\n",
    "\n",
    "vencedora = max(notas_candidatas, key=notas_candidatas.get)\n",
    "pontuacao_vencedora = notas_candidatas[vencedora]\n",
    "\n",
    "print(f\"\\nA vencedora é {vencedora} com a pontuação total de {pontuacao_vencedora}.\")\n",
    "\n"
   ]
  },
  {
   "cell_type": "code",
   "execution_count": null,
   "metadata": {},
   "outputs": [],
   "source": []
  }
 ],
 "metadata": {
  "colab": {
   "provenance": []
  },
  "kernelspec": {
   "display_name": "Python 3 (ipykernel)",
   "language": "python",
   "name": "python3"
  },
  "language_info": {
   "codemirror_mode": {
    "name": "ipython",
    "version": 3
   },
   "file_extension": ".py",
   "mimetype": "text/x-python",
   "name": "python",
   "nbconvert_exporter": "python",
   "pygments_lexer": "ipython3",
   "version": "3.11.4"
  }
 },
 "nbformat": 4,
 "nbformat_minor": 4
}
